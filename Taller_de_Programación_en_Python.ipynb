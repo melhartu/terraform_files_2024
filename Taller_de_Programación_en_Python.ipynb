{
  "nbformat": 4,
  "nbformat_minor": 0,
  "metadata": {
    "colab": {
      "provenance": [],
      "include_colab_link": true
    },
    "kernelspec": {
      "name": "python3",
      "display_name": "Python 3"
    },
    "language_info": {
      "name": "python"
    }
  },
  "cells": [
    {
      "cell_type": "markdown",
      "metadata": {
        "id": "view-in-github",
        "colab_type": "text"
      },
      "source": [
        "<a href=\"https://colab.research.google.com/github/melhartu/terraform_files_2024/blob/main/Taller_de_Programaci%C3%B3n_en_Python.ipynb\" target=\"_parent\"><img src=\"https://colab.research.google.com/assets/colab-badge.svg\" alt=\"Open In Colab\"/></a>"
      ]
    },
    {
      "cell_type": "markdown",
      "source": [
        "### **Uso y estilo**"
      ],
      "metadata": {
        "id": "AgNWIpIq8uZd"
      }
    },
    {
      "cell_type": "code",
      "source": [
        "# tiene un grupo de principios\n",
        "import this"
      ],
      "metadata": {
        "id": "NGWhPLSd8lmP",
        "colab": {
          "base_uri": "https://localhost:8080/"
        },
        "outputId": "201f726a-724b-4132-cdb7-047453c2bb79"
      },
      "execution_count": null,
      "outputs": [
        {
          "output_type": "stream",
          "name": "stdout",
          "text": [
            "The Zen of Python, by Tim Peters\n",
            "\n",
            "Beautiful is better than ugly.\n",
            "Explicit is better than implicit.\n",
            "Simple is better than complex.\n",
            "Complex is better than complicated.\n",
            "Flat is better than nested.\n",
            "Sparse is better than dense.\n",
            "Readability counts.\n",
            "Special cases aren't special enough to break the rules.\n",
            "Although practicality beats purity.\n",
            "Errors should never pass silently.\n",
            "Unless explicitly silenced.\n",
            "In the face of ambiguity, refuse the temptation to guess.\n",
            "There should be one-- and preferably only one --obvious way to do it.\n",
            "Although that way may not be obvious at first unless you're Dutch.\n",
            "Now is better than never.\n",
            "Although never is often better than *right* now.\n",
            "If the implementation is hard to explain, it's a bad idea.\n",
            "If the implementation is easy to explain, it may be a good idea.\n",
            "Namespaces are one honking great idea -- let's do more of those!\n"
          ]
        }
      ]
    },
    {
      "cell_type": "code",
      "source": [
        "# es un lenguaje muy flexible\n",
        "# en este curso lo usaremos a través de Jupyter (Google Colab)\n",
        "# este código no es production-ready\n",
        "# cuando se usa en un proyecto, con equipos y módulos, sigue una estructura\n",
        "\n",
        "\n",
        "# imports arriba\n",
        "import re\n",
        "import time\n",
        "\n",
        "\n",
        "# funciones al medio\n",
        "def main():\n",
        "  print(\"hola mundo\")\n",
        "  print(\"chau\")\n",
        "\n",
        "\n",
        "def cargar_datos():\n",
        "  pass\n",
        "\n",
        "\n",
        "# flujo de ejecución abajo\n",
        "if __name__ == \"__main__\":\n",
        "  main()"
      ],
      "metadata": {
        "id": "9sQgZBos9F6N",
        "colab": {
          "base_uri": "https://localhost:8080/"
        },
        "outputId": "f009d476-4e26-4666-daf3-cf9f024e46e4"
      },
      "execution_count": null,
      "outputs": [
        {
          "output_type": "stream",
          "name": "stdout",
          "text": [
            "hola mundo\n",
            "chau\n"
          ]
        }
      ]
    },
    {
      "cell_type": "code",
      "source": [
        "# es indentado\n",
        "if 1 == 1:\n",
        "  if 2 == 2:\n",
        "    if 3 == 3:\n",
        "      print(\"hola1\")\n",
        "\n",
        "if 1 == 1 and 2 == 2 and 3 == 3:\n",
        "      print(\"hola2\")"
      ],
      "metadata": {
        "id": "bHk9W7j88mTe",
        "colab": {
          "base_uri": "https://localhost:8080/"
        },
        "outputId": "9b5bec99-b9fd-4611-880b-86b94e6d5595"
      },
      "execution_count": null,
      "outputs": [
        {
          "output_type": "stream",
          "name": "stdout",
          "text": [
            "hola1\n",
            "hola2\n"
          ]
        }
      ]
    },
    {
      "cell_type": "code",
      "source": [
        "# las indentaciones pueden ser con espacios o con tabulaciones\n",
        "# pero deben ser consistentes\n",
        " if 1 == 1:\n",
        "    if 2 == 2:\n",
        "             if 3 == 3:\n",
        "               print(\"error\")"
      ],
      "metadata": {
        "id": "XqBbxUA-93Vf",
        "colab": {
          "base_uri": "https://localhost:8080/",
          "height": 106
        },
        "outputId": "35b653ca-3271-4103-e729-6bbd43552922"
      },
      "execution_count": null,
      "outputs": [
        {
          "output_type": "error",
          "ename": "IndentationError",
          "evalue": "unexpected indent (<ipython-input-6-a3660871e843>, line 3)",
          "traceback": [
            "\u001b[0;36m  File \u001b[0;32m\"<ipython-input-6-a3660871e843>\"\u001b[0;36m, line \u001b[0;32m3\u001b[0m\n\u001b[0;31m    if 1 == 1:\u001b[0m\n\u001b[0m    ^\u001b[0m\n\u001b[0;31mIndentationError\u001b[0m\u001b[0;31m:\u001b[0m unexpected indent\n"
          ]
        }
      ]
    },
    {
      "cell_type": "code",
      "source": [
        "# pueden escribirse fragmentos en una sola línea\n",
        "# usando : y ; correspondientemente\n",
        "if 1 == 1: print(\"hola\"); print(\"chau\")\n",
        "\n",
        "if 1 == 1:\n",
        "  print(\"hola\")\n",
        "  print(\"chau\")"
      ],
      "metadata": {
        "id": "A6z7bKbB8onG",
        "colab": {
          "base_uri": "https://localhost:8080/"
        },
        "outputId": "a451caf9-e47f-46d2-a69f-d3db9090e880"
      },
      "execution_count": null,
      "outputs": [
        {
          "output_type": "stream",
          "name": "stdout",
          "text": [
            "hola\n",
            "chau\n",
            "hola\n",
            "chau\n"
          ]
        }
      ]
    },
    {
      "cell_type": "code",
      "source": [
        "# puede incluso romperse una línea de código\n",
        "if 1 == \\\n",
        "    1: print(10)\n",
        "\n",
        "texto = \"hola\"\n",
        "if texto == \"akljflkasjflaskfj lakfjaslk\" + \\\n",
        " \"fjsldkfjaslfkjsa lfkjas dlfkjaslfk jsflkjasdflkjsdflkjsdaf\":\n",
        "  print(\"chau\")\n",
        "else:\n",
        "    print(\"hoy\")"
      ],
      "metadata": {
        "id": "Vn3Z2vIw8qoH",
        "colab": {
          "base_uri": "https://localhost:8080/"
        },
        "outputId": "3ac53547-03a7-4b62-8f4d-40884344f96c"
      },
      "execution_count": null,
      "outputs": [
        {
          "output_type": "stream",
          "name": "stdout",
          "text": [
            "10\n",
            "hoy\n"
          ]
        }
      ]
    },
    {
      "cell_type": "code",
      "source": [
        "# las variables se escriben en snake_case\n",
        "cantidad = 50\n",
        "precio_neto = 0.5\n",
        "valor = cantidad * precio_neto\n",
        "print(valor)\n",
        "\n",
        "# no se usa por ejemplo\n",
        "Cantidad = 50\n",
        "precioNeto = 0.5\n",
        "\n",
        "\n",
        "x = \"hola_amigos_como_estan\" # snake_case\n",
        "x = \"holaAmigosComoEstan\" # camelCase\n",
        "x = \"hola-amigos-como-estan\" # kebab-case"
      ],
      "metadata": {
        "id": "Cv69Rj_W8s02",
        "colab": {
          "base_uri": "https://localhost:8080/"
        },
        "outputId": "2b3f3b9a-a965-49ac-843c-89b0692df52c"
      },
      "execution_count": null,
      "outputs": [
        {
          "output_type": "stream",
          "name": "stdout",
          "text": [
            "25.0\n",
            "1\n"
          ]
        }
      ]
    },
    {
      "cell_type": "code",
      "source": [
        "# las constantes se escriben en mayúsculas\n",
        "NOMBRE_PAIS = \"Peru\""
      ],
      "metadata": {
        "id": "44Sou2ZO-S3Q"
      },
      "execution_count": null,
      "outputs": []
    },
    {
      "cell_type": "markdown",
      "source": [
        "### Tipos de variable"
      ],
      "metadata": {
        "id": "AHRRgWZ--sBy"
      }
    },
    {
      "cell_type": "code",
      "source": [
        "# números\n",
        "n1 = 10       # int (entero)\n",
        "n2 = 23.3     # float (real, punto flotante)\n",
        "n3 = 10 + 1j  # complejos\n",
        "\n",
        "# booleanos\n",
        "b1 = True\n",
        "b2 = False\n",
        "\n",
        "# diccionarios\n",
        "edad_sebastian = 20\n",
        "m1 = {\n",
        "    \"nombre\": \"Sebastián\",\n",
        "    \"edad\": edad_sebastian,\n",
        "    \"habilitado\": True,\n",
        "    \"dni\": {\n",
        "        \"numero\": \"428352\",\n",
        "        \"fecha_vencimiento\": \"1/1/1\",\n",
        "    }\n",
        "}\n",
        "\n",
        "# secuencias\n",
        "s1 = \"ABC\"       # string (cadena)\n",
        "s1 = 'ABC'\n",
        "s2 = [1, 2, 3, True, {}, [1,2,3], 'A', 'B', 'C']   # lista\n",
        "s3 = (4, 5, 6)   # tupla\n",
        "\n",
        "# lista de diccionarios\n",
        "s4 = [ { \"x\": 1, \"y\": 2 }, { \"x\": 3, \"y\": 4 } ]\n",
        "\n",
        "# conjuntos\n",
        "c1 = set([1, 2, 3])        # conjunto dinámico\n",
        "c2 = frozenset([1, 2, 3])  # conjunto fijo\n",
        "\n",
        "# tipo vacío\n",
        "x = None"
      ],
      "metadata": {
        "id": "gDUOAgOT-ump"
      },
      "execution_count": null,
      "outputs": []
    },
    {
      "cell_type": "code",
      "source": [
        "# las secuencias pueden mezclar tipos (menos en cadenas, que es una concatenación)\n",
        "s1 = [ 10, \"hola\"]\n",
        "s2 = ( True, 4.0 )\n",
        "print(s1)\n",
        "print(s2)"
      ],
      "metadata": {
        "id": "waCoLnpW-ych",
        "colab": {
          "base_uri": "https://localhost:8080/"
        },
        "outputId": "9fc9f222-9efa-4334-9ff6-694d94515ec1"
      },
      "execution_count": null,
      "outputs": [
        {
          "output_type": "stream",
          "name": "stdout",
          "text": [
            "[10, 'hola']\n",
            "(True, 4.0)\n"
          ]
        }
      ]
    },
    {
      "cell_type": "code",
      "source": [
        "x = \"hola\" + str(True)\n",
        "print(x)"
      ],
      "metadata": {
        "colab": {
          "base_uri": "https://localhost:8080/"
        },
        "id": "br71RB_2ffD6",
        "outputId": "94d96ccf-bc3d-421a-d95c-08d6e3f57823"
      },
      "execution_count": null,
      "outputs": [
        {
          "output_type": "stream",
          "name": "stdout",
          "text": [
            "holaTrue\n"
          ]
        }
      ]
    },
    {
      "cell_type": "code",
      "source": [],
      "metadata": {
        "id": "QHEExk93uriw"
      },
      "execution_count": null,
      "outputs": []
    },
    {
      "cell_type": "markdown",
      "source": [
        "### Operaciones"
      ],
      "metadata": {
        "id": "9-u3bBXN-2OE"
      }
    },
    {
      "cell_type": "code",
      "source": [
        "# concatenación en listas\n",
        "l = [1, 2, 3] + [99, \"hola\"]\n",
        "print(l)"
      ],
      "metadata": {
        "id": "pqeEDYhn-4v0",
        "colab": {
          "base_uri": "https://localhost:8080/"
        },
        "outputId": "09d0e590-2020-449b-f7e7-8c7e86e4b530"
      },
      "execution_count": null,
      "outputs": [
        {
          "output_type": "stream",
          "name": "stdout",
          "text": [
            "[1, 2, 3, 99, 'hola']\n"
          ]
        }
      ]
    },
    {
      "cell_type": "code",
      "source": [
        "# concatenación en tuplas\n",
        "l = (1, 2) + (3, \"chau\")\n",
        "print(l)"
      ],
      "metadata": {
        "id": "wFlneWho-6bv",
        "colab": {
          "base_uri": "https://localhost:8080/"
        },
        "outputId": "29d4458f-90b4-4035-de83-2426372b2356"
      },
      "execution_count": null,
      "outputs": [
        {
          "output_type": "stream",
          "name": "stdout",
          "text": [
            "(1, 2, 3, 'chau')\n"
          ]
        }
      ]
    },
    {
      "cell_type": "code",
      "source": [
        "# concatenación en cadenas\n",
        "s = \"ABC\" + 'DEF'\n",
        "print(s)"
      ],
      "metadata": {
        "id": "qkYesnHo-7GD",
        "colab": {
          "base_uri": "https://localhost:8080/"
        },
        "outputId": "db06c32b-3035-4975-814c-7629ff8b69e2"
      },
      "execution_count": null,
      "outputs": [
        {
          "output_type": "stream",
          "name": "stdout",
          "text": [
            "ABCDEF\n"
          ]
        }
      ]
    },
    {
      "cell_type": "code",
      "source": [
        "# concatenación en cadenas con números (no se puede)\n",
        "s = \"ABC\" + 123\n",
        "print(s)"
      ],
      "metadata": {
        "id": "opIwxcNE-85G",
        "colab": {
          "base_uri": "https://localhost:8080/",
          "height": 176
        },
        "outputId": "3b4c7688-0dc0-419f-c7ce-01a8648da97b"
      },
      "execution_count": null,
      "outputs": [
        {
          "output_type": "error",
          "ename": "TypeError",
          "evalue": "can only concatenate str (not \"int\") to str",
          "traceback": [
            "\u001b[0;31m---------------------------------------------------------------------------\u001b[0m",
            "\u001b[0;31mTypeError\u001b[0m                                 Traceback (most recent call last)",
            "\u001b[0;32m<ipython-input-18-539e8604d142>\u001b[0m in \u001b[0;36m<cell line: 2>\u001b[0;34m()\u001b[0m\n\u001b[1;32m      1\u001b[0m \u001b[0;31m# concatenación en cadenas con números (no se puede)\u001b[0m\u001b[0;34m\u001b[0m\u001b[0;34m\u001b[0m\u001b[0m\n\u001b[0;32m----> 2\u001b[0;31m \u001b[0ms\u001b[0m \u001b[0;34m=\u001b[0m \u001b[0;34m\"ABC\"\u001b[0m \u001b[0;34m+\u001b[0m \u001b[0;36m123\u001b[0m\u001b[0;34m\u001b[0m\u001b[0;34m\u001b[0m\u001b[0m\n\u001b[0m\u001b[1;32m      3\u001b[0m \u001b[0mprint\u001b[0m\u001b[0;34m(\u001b[0m\u001b[0ms\u001b[0m\u001b[0;34m)\u001b[0m\u001b[0;34m\u001b[0m\u001b[0;34m\u001b[0m\u001b[0m\n",
            "\u001b[0;31mTypeError\u001b[0m: can only concatenate str (not \"int\") to str"
          ]
        }
      ]
    },
    {
      "cell_type": "code",
      "source": [
        "# concatenación en cadenas con números (a través del casting)\n",
        "s = \"ABC\" + str(123)\n",
        "print(s)"
      ],
      "metadata": {
        "id": "7Jz5bK1B--Cq",
        "colab": {
          "base_uri": "https://localhost:8080/"
        },
        "outputId": "5c1c8cca-e4b3-449d-cb26-157cb4038179"
      },
      "execution_count": null,
      "outputs": [
        {
          "output_type": "stream",
          "name": "stdout",
          "text": [
            "ABC123\n"
          ]
        }
      ]
    },
    {
      "cell_type": "code",
      "source": [
        "# casting de int a float\n",
        "n = float(10)\n",
        "print(n)"
      ],
      "metadata": {
        "id": "EKxmZDbP_AWi",
        "colab": {
          "base_uri": "https://localhost:8080/"
        },
        "outputId": "5da28eee-5ee4-4aed-f93d-1a7e37a1dca1"
      },
      "execution_count": null,
      "outputs": [
        {
          "output_type": "stream",
          "name": "stdout",
          "text": [
            "10.0\n"
          ]
        }
      ]
    },
    {
      "cell_type": "code",
      "source": [
        "# casting de float a int (floor)\n",
        "n = int(3.145646)\n",
        "print(n)\n",
        "\n",
        "# castear a int no es redondear!\n",
        "n = int(99.99999)\n",
        "print(n)\n",
        "\n",
        "n = int(round(99.999, 0))\n",
        "print(n)"
      ],
      "metadata": {
        "id": "2xw1xJ1d_BGk",
        "colab": {
          "base_uri": "https://localhost:8080/"
        },
        "outputId": "cc6a5f9a-d184-4e11-a440-5ef56b44e24c"
      },
      "execution_count": null,
      "outputs": [
        {
          "output_type": "stream",
          "name": "stdout",
          "text": [
            "3\n",
            "99\n",
            "100\n"
          ]
        }
      ]
    },
    {
      "cell_type": "code",
      "source": [
        "# operaciones unarias\n",
        "n1 = 5\n",
        "n1 = -n1  # negación\n",
        "n1 = -n1  # negación\n",
        "print(n1)"
      ],
      "metadata": {
        "id": "Yj-sHLzY_CJq",
        "colab": {
          "base_uri": "https://localhost:8080/"
        },
        "outputId": "c3bc1c44-a0fc-4a9a-d141-4185ba7ed483"
      },
      "execution_count": null,
      "outputs": [
        {
          "output_type": "stream",
          "name": "stdout",
          "text": [
            "5\n"
          ]
        }
      ]
    },
    {
      "cell_type": "code",
      "source": [
        "# operaciones binarias\n",
        "n1 = 1\n",
        "n2 = 4\n",
        "print(n1 + n2)  # suma\n",
        "print(n1 - n2)  # resta\n",
        "print(n1 * n2)  # multiplicación\n",
        "print(n1 / n2)  # división\n",
        "print(n1 ** n2) # potencia"
      ],
      "metadata": {
        "id": "sKZyzVFK_Fw7",
        "colab": {
          "base_uri": "https://localhost:8080/"
        },
        "outputId": "2ce29637-e1e5-4db2-af33-8d129a249397"
      },
      "execution_count": null,
      "outputs": [
        {
          "output_type": "stream",
          "name": "stdout",
          "text": [
            "5\n",
            "-3\n",
            "4\n",
            "0.25\n",
            "1\n"
          ]
        }
      ]
    },
    {
      "cell_type": "code",
      "source": [
        "# división entera\n",
        "print(100 // 3)\n",
        "\n",
        "# residuo\n",
        "print(12 % 4)\n",
        "print(12 % 5)"
      ],
      "metadata": {
        "id": "0NVYvaUq_I1z",
        "colab": {
          "base_uri": "https://localhost:8080/"
        },
        "outputId": "5f2dabb8-90c5-4b5c-8473-d94c53955884"
      },
      "execution_count": null,
      "outputs": [
        {
          "output_type": "stream",
          "name": "stdout",
          "text": [
            "33\n",
            "0\n",
            "2\n"
          ]
        }
      ]
    },
    {
      "cell_type": "code",
      "source": [
        "x = 10\n",
        "if x % 2 == 0:\n",
        "  print(\"par\")\n",
        "else:\n",
        "  print(\"impar\")"
      ],
      "metadata": {
        "colab": {
          "base_uri": "https://localhost:8080/"
        },
        "id": "Rqxa6UeihANM",
        "outputId": "ad2ed69f-0b52-45e1-abf4-3eca0c7f9176"
      },
      "execution_count": null,
      "outputs": [
        {
          "output_type": "stream",
          "name": "stdout",
          "text": [
            "par\n"
          ]
        }
      ]
    },
    {
      "cell_type": "code",
      "source": [
        "# podemos operar y asignar\n",
        "x = 1\n",
        "print(x)\n",
        "x += 3\n",
        "print(x)\n",
        "x -= 1\n",
        "print(x)\n",
        "x *= 10\n",
        "print(x)"
      ],
      "metadata": {
        "id": "hHO5fcZm_Loh",
        "colab": {
          "base_uri": "https://localhost:8080/"
        },
        "outputId": "7e2c9e4d-c564-4e4e-c050-46945a2ba474"
      },
      "execution_count": null,
      "outputs": [
        {
          "output_type": "stream",
          "name": "stdout",
          "text": [
            "1\n",
            "4\n",
            "3\n",
            "30\n"
          ]
        }
      ]
    },
    {
      "cell_type": "code",
      "source": [
        "counter = 0\n",
        "counter += 1"
      ],
      "metadata": {
        "colab": {
          "base_uri": "https://localhost:8080/"
        },
        "id": "XLNgSmE2hQWT",
        "outputId": "c719c325-0c2e-4223-8db8-f36176430922"
      },
      "execution_count": null,
      "outputs": [
        {
          "output_type": "stream",
          "name": "stdout",
          "text": [
            "-2\n"
          ]
        }
      ]
    },
    {
      "cell_type": "code",
      "source": [
        "# se pueden asignar varias variables en una línea\n",
        "nombre, apellido, edad = \"jose\", \"naranjo\", 31\n",
        "print(edad)\n",
        "print(nombre)"
      ],
      "metadata": {
        "id": "FC4yC8mq_MFx",
        "colab": {
          "base_uri": "https://localhost:8080/"
        },
        "outputId": "be7ee27d-71fd-4ea9-eb0f-a01d27653f00"
      },
      "execution_count": null,
      "outputs": [
        {
          "output_type": "stream",
          "name": "stdout",
          "text": [
            "31\n",
            "jose\n"
          ]
        }
      ]
    },
    {
      "cell_type": "markdown",
      "source": [
        "### Manejo de memoria"
      ],
      "metadata": {
        "id": "5gRCOUZd_VSz"
      }
    },
    {
      "cell_type": "code",
      "source": [
        "x = 100\n",
        "y = 100\n",
        "print(x == y)"
      ],
      "metadata": {
        "id": "N4_nBguc_WgD",
        "colab": {
          "base_uri": "https://localhost:8080/"
        },
        "outputId": "c8ddfe17-c93a-4470-ebab-52d1065034d9"
      },
      "execution_count": null,
      "outputs": [
        {
          "output_type": "stream",
          "name": "stdout",
          "text": [
            "True\n"
          ]
        }
      ]
    },
    {
      "cell_type": "code",
      "source": [
        "# en qué parte de memoria está x?\n",
        "id(x)"
      ],
      "metadata": {
        "id": "Vj5b8uCD_XYI",
        "colab": {
          "base_uri": "https://localhost:8080/"
        },
        "outputId": "8eab8d86-f946-4d75-93f2-a8cb2d283fe9"
      },
      "execution_count": null,
      "outputs": [
        {
          "output_type": "execute_result",
          "data": {
            "text/plain": [
              "139949542821200"
            ]
          },
          "metadata": {},
          "execution_count": 34
        }
      ]
    },
    {
      "cell_type": "code",
      "source": [
        "# en qué parte de memoria está y?\n",
        "id(y)"
      ],
      "metadata": {
        "id": "BNKqEOfn_YQc",
        "colab": {
          "base_uri": "https://localhost:8080/"
        },
        "outputId": "978ba4f1-ff1e-4c94-e82a-91acacc77148"
      },
      "execution_count": null,
      "outputs": [
        {
          "output_type": "execute_result",
          "data": {
            "text/plain": [
              "139949542821200"
            ]
          },
          "metadata": {},
          "execution_count": 35
        }
      ]
    },
    {
      "cell_type": "code",
      "source": [
        "# podemos preguntar si apuntan al mismo lugar de memoria\n",
        "print(x is y)"
      ],
      "metadata": {
        "id": "v7iWAvkf_ZIn",
        "colab": {
          "base_uri": "https://localhost:8080/"
        },
        "outputId": "96da538a-39e6-4137-83d3-4566d1f04720"
      },
      "execution_count": null,
      "outputs": [
        {
          "output_type": "stream",
          "name": "stdout",
          "text": [
            "True\n"
          ]
        }
      ]
    },
    {
      "cell_type": "code",
      "source": [
        "l1 = [1, 2, 3]\n",
        "l2 = [1, 2, 3]\n",
        "print(l1 == l2)\n",
        "print(l1[0] == l2[0])"
      ],
      "metadata": {
        "id": "zIx0Mgw8_a6s",
        "colab": {
          "base_uri": "https://localhost:8080/"
        },
        "outputId": "ddfb41c8-0989-4ee9-8c62-595f9648c2d6"
      },
      "execution_count": null,
      "outputs": [
        {
          "output_type": "stream",
          "name": "stdout",
          "text": [
            "True\n",
            "True\n"
          ]
        }
      ]
    },
    {
      "cell_type": "code",
      "source": [
        "print(l1 is l2) # False\n",
        "print(l1[0] is l2[0])"
      ],
      "metadata": {
        "id": "zR7gRTvm_b6F",
        "colab": {
          "base_uri": "https://localhost:8080/"
        },
        "outputId": "1a046fcc-7766-474c-dfec-dca7a4fc5980"
      },
      "execution_count": null,
      "outputs": [
        {
          "output_type": "stream",
          "name": "stdout",
          "text": [
            "False\n",
            "True\n"
          ]
        }
      ]
    },
    {
      "cell_type": "code",
      "source": [
        "# las listas también están en memoria\n",
        "# los valores que contienen son los mismos\n",
        "# pero las listas no\n",
        "print(id(l1))\n",
        "print(id(l2))"
      ],
      "metadata": {
        "id": "96zWVVjN_dyG",
        "colab": {
          "base_uri": "https://localhost:8080/"
        },
        "outputId": "0dc09aa7-204b-458b-aa3d-4c475becdbf2"
      },
      "execution_count": null,
      "outputs": [
        {
          "output_type": "stream",
          "name": "stdout",
          "text": [
            "139948261382400\n",
            "139948259938880\n"
          ]
        }
      ]
    },
    {
      "cell_type": "code",
      "source": [
        "# se puede autoincrementar un valor de una variable\n",
        "x = 1\n",
        "y = x # y = 1\n",
        "y += 1\n",
        "print(x, y)"
      ],
      "metadata": {
        "id": "wX6QXYLg_gqH",
        "colab": {
          "base_uri": "https://localhost:8080/"
        },
        "outputId": "e037125c-4fe3-45dc-d879-46fc88cc45d1"
      },
      "execution_count": null,
      "outputs": [
        {
          "output_type": "stream",
          "name": "stdout",
          "text": [
            "1 2\n"
          ]
        }
      ]
    },
    {
      "cell_type": "code",
      "source": [
        "l1 = [1, 2, 3]\n",
        "l2 = l1 # [1,2,3]\n",
        "l2.append(4)\n",
        "print(\"l1\", l1)  # se modificó l1\n",
        "print(\"l2\", l2)"
      ],
      "metadata": {
        "id": "a8muvxZu_llX",
        "colab": {
          "base_uri": "https://localhost:8080/"
        },
        "outputId": "ce72ae8e-701d-45c5-97d1-624ef162d934"
      },
      "execution_count": null,
      "outputs": [
        {
          "output_type": "stream",
          "name": "stdout",
          "text": [
            "l1 [1, 2, 3, 4]\n",
            "l2 [1, 2, 3, 4]\n"
          ]
        }
      ]
    },
    {
      "cell_type": "code",
      "source": [
        "l1 = [1, 2, 3]\n",
        "l2 = l1.copy()  # si se copia, entonces no se está apuntando al mismo lugar en memoria\n",
        "l2.append(4)\n",
        "print(\"l1\", l1)  # no se modificó l1\n",
        "print(\"l2\", l2)"
      ],
      "metadata": {
        "id": "b4v4Ziw5_ncQ",
        "colab": {
          "base_uri": "https://localhost:8080/"
        },
        "outputId": "ddc64b79-7a0f-4cab-c3c2-764416d66f86"
      },
      "execution_count": null,
      "outputs": [
        {
          "output_type": "stream",
          "name": "stdout",
          "text": [
            "l1 [1, 2, 3]\n",
            "l2 [1, 2, 3, 4]\n"
          ]
        }
      ]
    },
    {
      "cell_type": "code",
      "source": [
        "# se pueden borrar elementos de memoria\n",
        "del l1, l2\n",
        "print(l1)  # ya no existe"
      ],
      "metadata": {
        "id": "gPicp8Os_oeo",
        "colab": {
          "base_uri": "https://localhost:8080/",
          "height": 176
        },
        "outputId": "62b70aed-44ba-4010-9500-1bcc7175546b"
      },
      "execution_count": null,
      "outputs": [
        {
          "output_type": "error",
          "ename": "NameError",
          "evalue": "name 'l1' is not defined",
          "traceback": [
            "\u001b[0;31m---------------------------------------------------------------------------\u001b[0m",
            "\u001b[0;31mNameError\u001b[0m                                 Traceback (most recent call last)",
            "\u001b[0;32m<ipython-input-44-e3cbed573d88>\u001b[0m in \u001b[0;36m<cell line: 3>\u001b[0;34m()\u001b[0m\n\u001b[1;32m      1\u001b[0m \u001b[0;31m# se pueden borrar elementos de memoria\u001b[0m\u001b[0;34m\u001b[0m\u001b[0;34m\u001b[0m\u001b[0m\n\u001b[1;32m      2\u001b[0m \u001b[0;32mdel\u001b[0m \u001b[0ml1\u001b[0m\u001b[0;34m,\u001b[0m \u001b[0ml2\u001b[0m\u001b[0;34m\u001b[0m\u001b[0;34m\u001b[0m\u001b[0m\n\u001b[0;32m----> 3\u001b[0;31m \u001b[0mprint\u001b[0m\u001b[0;34m(\u001b[0m\u001b[0ml1\u001b[0m\u001b[0;34m)\u001b[0m  \u001b[0;31m# ya no existe\u001b[0m\u001b[0;34m\u001b[0m\u001b[0;34m\u001b[0m\u001b[0m\n\u001b[0m",
            "\u001b[0;31mNameError\u001b[0m: name 'l1' is not defined"
          ]
        }
      ]
    },
    {
      "cell_type": "markdown",
      "source": [
        "### Manejo de errores"
      ],
      "metadata": {
        "id": "KUR8vReY_wQR"
      }
    },
    {
      "cell_type": "code",
      "source": [
        "# se pueden gestionar los errores previsibles\n",
        "a = 3\n",
        "b = 0\n",
        "\n",
        "try:\n",
        "    x = a / b\n",
        "except:\n",
        "    print(\"error\")"
      ],
      "metadata": {
        "id": "nNFdGt90_xjn",
        "colab": {
          "base_uri": "https://localhost:8080/"
        },
        "outputId": "6bb49ec0-6bb4-4268-adaf-7ade180cb1ad"
      },
      "execution_count": null,
      "outputs": [
        {
          "output_type": "stream",
          "name": "stdout",
          "text": [
            "error\n"
          ]
        }
      ]
    },
    {
      "cell_type": "code",
      "source": [
        "# se puede hacer de manera muy explícita por error\n",
        "try:\n",
        "    x = a / b\n",
        "except ZeroDivisionError:\n",
        "    print(\"división entre cero no permitida\")\n",
        "except:\n",
        "    print(\"error desconocido\")"
      ],
      "metadata": {
        "id": "0p55O6DT_zK4",
        "colab": {
          "base_uri": "https://localhost:8080/"
        },
        "outputId": "2ac83aa8-62f2-43bf-8baa-7796fe6259b6"
      },
      "execution_count": null,
      "outputs": [
        {
          "output_type": "stream",
          "name": "stdout",
          "text": [
            "división entre cero no permitida\n"
          ]
        }
      ]
    },
    {
      "cell_type": "code",
      "source": [
        "# algo muy pythonic es probar primero y gestionar luego\n",
        "\n",
        "edad = 20\n",
        "\n",
        "# en vez de probar primero,\n",
        "if edad > 0:\n",
        "    x = edad + 1\n",
        "    x /= edad\n",
        "    x += 100\n",
        "    print(x)\n",
        "else:\n",
        "    print(\"error, edad es menor o igual a 0\")\n",
        "\n",
        "# se suele intentar primero,\n",
        "try:\n",
        "    x = edad + 1\n",
        "    x /= edad\n",
        "    x += 100\n",
        "    print(x)\n",
        "except ZeroDivisionError:\n",
        "    print(\"error, edad inválida\")"
      ],
      "metadata": {
        "id": "drrE6Mq8_0Pg"
      },
      "execution_count": null,
      "outputs": []
    },
    {
      "cell_type": "markdown",
      "source": [
        "### Cadenas (strings)"
      ],
      "metadata": {
        "id": "68oHKxKA_5sh"
      }
    },
    {
      "cell_type": "code",
      "source": [
        "# las cadenas son secuencias de caracteres\n",
        "# como tales tienen longitud\n",
        "s = \"jose\"\n",
        "len(s)"
      ],
      "metadata": {
        "id": "GKQM-uPW_7DR",
        "colab": {
          "base_uri": "https://localhost:8080/"
        },
        "outputId": "ec303901-7e2d-4e47-b093-5d214ed10dac"
      },
      "execution_count": null,
      "outputs": [
        {
          "output_type": "execute_result",
          "data": {
            "text/plain": [
              "4"
            ]
          },
          "metadata": {},
          "execution_count": 48
        }
      ]
    },
    {
      "cell_type": "code",
      "source": [
        "# se pueden reemplazar substrings\n",
        "s = \"tinojo\"\n",
        "s = s.replace(\"o\", \"a\")\n",
        "print(s)"
      ],
      "metadata": {
        "id": "h9D8E5rY_790",
        "colab": {
          "base_uri": "https://localhost:8080/"
        },
        "outputId": "40c6e4ed-1eb9-4bfa-b970-429b067b7b5b"
      },
      "execution_count": null,
      "outputs": [
        {
          "output_type": "stream",
          "name": "stdout",
          "text": [
            "tinaja\n"
          ]
        }
      ]
    },
    {
      "cell_type": "code",
      "source": [
        "# buscar la posición de inicio un substring\n",
        "s = \"abcdef\"\n",
        "indice_c = s.find(\"c\")\n",
        "print(indice_c)  # listas empiezan en 0"
      ],
      "metadata": {
        "id": "qURoP_S4_81B",
        "colab": {
          "base_uri": "https://localhost:8080/"
        },
        "outputId": "66256140-be2b-4392-bfe8-6817cbe4ce69"
      },
      "execution_count": null,
      "outputs": [
        {
          "output_type": "stream",
          "name": "stdout",
          "text": [
            "2\n"
          ]
        }
      ]
    },
    {
      "cell_type": "code",
      "source": [
        "# partir strings según un separador\n",
        "s = \"jose,naranjo\"\n",
        "s = s.split(\",\")\n",
        "print(s)"
      ],
      "metadata": {
        "id": "Q9FYwqEg_-G4",
        "colab": {
          "base_uri": "https://localhost:8080/"
        },
        "outputId": "dffd0aaf-0978-496e-f1c9-bcd4c61d9889"
      },
      "execution_count": null,
      "outputs": [
        {
          "output_type": "stream",
          "name": "stdout",
          "text": [
            "['jose;n', 'r', 'njo']\n"
          ]
        }
      ]
    },
    {
      "cell_type": "code",
      "source": [
        "# se pueden replicar strings\n",
        "s = \"x\"\n",
        "print(s * 10)"
      ],
      "metadata": {
        "id": "NrKTqEqPA0tm",
        "colab": {
          "base_uri": "https://localhost:8080/"
        },
        "outputId": "c3d9f600-cebe-43d2-bae2-fcb6d3f87438"
      },
      "execution_count": null,
      "outputs": [
        {
          "output_type": "stream",
          "name": "stdout",
          "text": [
            "xxxxxxxxxx\n"
          ]
        }
      ]
    },
    {
      "cell_type": "code",
      "source": [
        "# los strings pueden hacer referencia a variables\n",
        "edad = 38\n",
        "print(f\"Tengo {edad - 8} años\")\n",
        "\n",
        "# pueden hacer operaciones\n",
        "balance = 5425.9292\n",
        "print(f\"Balance: ${balance:.2f}\")\n",
        "\n",
        "# o a valores de un diccionario\n",
        "x = {\n",
        "    \"color\": \"rojo\",\n",
        "    \"altura\": 10\n",
        "}\n",
        "y = \"Soy de color {color} y altura {altura}\".format(**x)\n",
        "print(y)"
      ],
      "metadata": {
        "id": "rVigLKEF__ai",
        "colab": {
          "base_uri": "https://localhost:8080/"
        },
        "outputId": "44ec81d2-1d3a-4c9d-9322-6b6560f0cd4e"
      },
      "execution_count": null,
      "outputs": [
        {
          "output_type": "stream",
          "name": "stdout",
          "text": [
            "Tengo 30 años\n",
            "Balance: $5425.93\n",
            "Soy de color rojo y altura 10\n"
          ]
        }
      ]
    },
    {
      "cell_type": "markdown",
      "source": [
        "### Expresiones regulares"
      ],
      "metadata": {
        "id": "oaINXEhPAGDy"
      }
    },
    {
      "cell_type": "code",
      "source": [
        "# las expresiones regulares (regex) son patrones que se pueden\n",
        "# ejecutar sobre cadenas para encontrar grupos\n",
        "# se usan con la biblioteca core \"re\"\n",
        "\n",
        "import re"
      ],
      "metadata": {
        "id": "nN_Qw095AHUU"
      },
      "execution_count": null,
      "outputs": []
    },
    {
      "cell_type": "code",
      "source": [
        "# por ejemplo, para validar correos\n",
        "formato_correo = \"\\S+@\\S+\\.\\S+\"\n",
        "correo_jose = \"naranjja@gmail.com\"\n",
        "\n",
        "if re.match(formato_correo, correo_jose):\n",
        "    print(\"correo válido\")\n",
        "else:\n",
        "  print(\"correo invalido\")"
      ],
      "metadata": {
        "id": "v3WWYtMCAId1",
        "colab": {
          "base_uri": "https://localhost:8080/"
        },
        "outputId": "a50332dc-2af9-427d-e935-d3381769b204"
      },
      "execution_count": null,
      "outputs": [
        {
          "output_type": "stream",
          "name": "stdout",
          "text": [
            "correo invalido\n"
          ]
        }
      ]
    },
    {
      "cell_type": "code",
      "source": [
        "# validar números\n",
        "formato_telf = \"\\\\+?[1-9][0-9]{7,14}\"\n",
        "telf_jose = \"+51981315163\"\n",
        "\n",
        "if re.match(formato_telf, telf_jose):\n",
        "    print(\"teléfono válido\")"
      ],
      "metadata": {
        "id": "-wMW5qYRAJIB",
        "colab": {
          "base_uri": "https://localhost:8080/"
        },
        "outputId": "61dd9ebc-bece-487a-8b43-fc8e77db87ce"
      },
      "execution_count": null,
      "outputs": [
        {
          "output_type": "stream",
          "name": "stdout",
          "text": [
            "teléfono válido\n"
          ]
        }
      ]
    },
    {
      "cell_type": "code",
      "source": [
        "# o extraerlos\n",
        "msg = \"hola, mi correo es naranjja@gmail.com y mi teléfono el +51981315163\"\n",
        "correos = re.findall(formato_correo, msg)\n",
        "telfs = re.findall(formato_telf, msg)\n",
        "\n",
        "print(correos)\n",
        "print(telfs)"
      ],
      "metadata": {
        "id": "AI_F9c8mAJ8l",
        "colab": {
          "base_uri": "https://localhost:8080/"
        },
        "outputId": "46a3a53f-bc26-4f90-e2d7-b1283acab8be"
      },
      "execution_count": null,
      "outputs": [
        {
          "output_type": "stream",
          "name": "stdout",
          "text": [
            "['naranjja@gmail.com']\n",
            "['+51981315163']\n"
          ]
        }
      ]
    },
    {
      "cell_type": "code",
      "source": [],
      "metadata": {
        "id": "-nPAYBuuAK3s"
      },
      "execution_count": null,
      "outputs": []
    },
    {
      "cell_type": "markdown",
      "source": [
        "### Listas"
      ],
      "metadata": {
        "id": "JIM4_QJ4AMQ6"
      }
    },
    {
      "cell_type": "code",
      "source": [
        "# las listas son una estructura de datos que asocian valores con posiciones\n",
        "# se pueden instanciar de 2 maneras\n",
        "l1 = [1, 2, 3]\n",
        "l2 = list((1, 2, 3))  # usando su constructor\n",
        "\n",
        "nombres = list()\n",
        "nombres.append(\"jose\")\n",
        "print(nombres)"
      ],
      "metadata": {
        "id": "gZoqbevuANRo",
        "colab": {
          "base_uri": "https://localhost:8080/"
        },
        "outputId": "7897c371-e9e0-4415-fb0c-3efeef6793a9"
      },
      "execution_count": null,
      "outputs": [
        {
          "output_type": "stream",
          "name": "stdout",
          "text": [
            "['jose']\n"
          ]
        }
      ]
    },
    {
      "cell_type": "code",
      "execution_count": null,
      "metadata": {
        "id": "24ca7a22-5e35-4c0f-a173-980def1eb508",
        "colab": {
          "base_uri": "https://localhost:8080/"
        },
        "outputId": "49a93a05-36ce-4ff2-af9f-400f77b97623"
      },
      "outputs": [
        {
          "output_type": "execute_result",
          "data": {
            "text/plain": [
              "3"
            ]
          },
          "metadata": {},
          "execution_count": 68
        }
      ],
      "source": [
        "# tienen longitud\n",
        "len(l1)"
      ]
    },
    {
      "cell_type": "code",
      "execution_count": null,
      "metadata": {
        "id": "77d1cb79-77c4-4591-9a6f-39daa95fa043",
        "colab": {
          "base_uri": "https://localhost:8080/"
        },
        "outputId": "ba2cec8b-e979-424f-a1b7-155acd66bfbc"
      },
      "outputs": [
        {
          "output_type": "execute_result",
          "data": {
            "text/plain": [
              "[1, 2, 3, 4]"
            ]
          },
          "metadata": {},
          "execution_count": 75
        }
      ],
      "source": [
        "# se pueden agregar elementos al final de la lista\n",
        "l1 = [1,2,3]\n",
        "l1.append(4)\n",
        "l1"
      ]
    },
    {
      "cell_type": "code",
      "execution_count": null,
      "metadata": {
        "id": "e7260989-ea47-465d-97cb-55e0b491c652",
        "colab": {
          "base_uri": "https://localhost:8080/"
        },
        "outputId": "c98fb3e9-16e0-4632-fa67-546c15d2a3af"
      },
      "outputs": [
        {
          "output_type": "stream",
          "name": "stdout",
          "text": [
            "None\n",
            "[1]\n"
          ]
        }
      ],
      "source": [
        "# son mutables en su sitio\n",
        "# es decir, no es necesario volver a asignar el nuevo valor a la variable\n",
        "\n",
        "# no se usa\n",
        "l = []\n",
        "l = l.append(1)\n",
        "print(l)\n",
        "\n",
        "# sino\n",
        "l = []\n",
        "l.append(1)\n",
        "print(l)"
      ]
    },
    {
      "cell_type": "code",
      "execution_count": null,
      "metadata": {
        "id": "1c6f2273-771f-47c8-8d0f-7900bbc1c250",
        "colab": {
          "base_uri": "https://localhost:8080/"
        },
        "outputId": "88367bab-1be1-4c7c-a7be-6b3cd12f0957"
      },
      "outputs": [
        {
          "output_type": "execute_result",
          "data": {
            "text/plain": [
              "[1, 2, 2.5, 3, 4]"
            ]
          },
          "metadata": {},
          "execution_count": 76
        }
      ],
      "source": [
        "# se pueden agregar en un índice específico\n",
        "l1.insert(2, 2.5)\n",
        "l1"
      ]
    },
    {
      "cell_type": "code",
      "execution_count": null,
      "metadata": {
        "id": "00853b55-e42b-4cfe-9fba-4f37676eeb0b",
        "colab": {
          "base_uri": "https://localhost:8080/"
        },
        "outputId": "2cc5903f-5de9-4770-ee51-d2a76ca1472e"
      },
      "outputs": [
        {
          "output_type": "execute_result",
          "data": {
            "text/plain": [
              "[1, 2, 3, 4]"
            ]
          },
          "metadata": {},
          "execution_count": 77
        }
      ],
      "source": [
        "# se pueden remover elementos según valor\n",
        "l1.remove(2.5)\n",
        "l1"
      ]
    },
    {
      "cell_type": "code",
      "execution_count": null,
      "metadata": {
        "id": "64d6b037-fbad-4587-a205-38549d632fe6",
        "colab": {
          "base_uri": "https://localhost:8080/"
        },
        "outputId": "9c91a32e-a940-4684-c8e5-c1788b10b833"
      },
      "outputs": [
        {
          "output_type": "execute_result",
          "data": {
            "text/plain": [
              "[2, 3, 4]"
            ]
          },
          "metadata": {},
          "execution_count": 78
        }
      ],
      "source": [
        "# se pueden remover elementos según índice\n",
        "l1.pop(0)\n",
        "l1"
      ]
    },
    {
      "cell_type": "code",
      "execution_count": null,
      "metadata": {
        "id": "28c6cec0-a483-4704-9312-63c9ca7b2ab1",
        "colab": {
          "base_uri": "https://localhost:8080/"
        },
        "outputId": "cb78499e-a09f-40f3-8e9e-7e85c9183d90"
      },
      "outputs": [
        {
          "output_type": "stream",
          "name": "stdout",
          "text": [
            "4\n",
            "[2, 3, 100]\n"
          ]
        }
      ],
      "source": [
        "# se pueden seleccionar elementos según índice\n",
        "print(l1[2])\n",
        "\n",
        "# e incluso cambiar su valor\n",
        "l1[2] = 100\n",
        "print(l1)"
      ]
    },
    {
      "cell_type": "code",
      "execution_count": null,
      "metadata": {
        "id": "e5169c83-ddaf-48b6-a89d-b59493264a19",
        "colab": {
          "base_uri": "https://localhost:8080/"
        },
        "outputId": "053840b4-29d9-47f0-fa48-20bbfa17fa11"
      },
      "outputs": [
        {
          "output_type": "stream",
          "name": "stdout",
          "text": [
            "[2, 3, 100]\n",
            "[2]\n",
            "[3, 100]\n",
            "[3]\n"
          ]
        }
      ],
      "source": [
        "# se pueden seleccionar con operadores también\n",
        "print(l1[:])   # todo\n",
        "print(l1[:1])  # hasta el 1, excluyente\n",
        "print(l1[1:])  # desde el 1, incluyente\n",
        "print(l1[1:2]) # desde el 1 (incluyente) hasta el 2 (excluyente)"
      ]
    },
    {
      "cell_type": "code",
      "execution_count": null,
      "metadata": {
        "id": "481f0a42-6609-4d04-98ea-07a2c62d4479",
        "colab": {
          "base_uri": "https://localhost:8080/"
        },
        "outputId": "52961773-e082-4c31-f43f-d31794dc09c1"
      },
      "outputs": [
        {
          "output_type": "execute_result",
          "data": {
            "text/plain": [
              "[1, 1, 1, 1, 4, 5, 6, 9, 90, 5]"
            ]
          },
          "metadata": {},
          "execution_count": 83
        }
      ],
      "source": [
        "l1 = [1,1,1,1,4,5,6,9,90,5]\n",
        "l1"
      ]
    },
    {
      "cell_type": "code",
      "execution_count": null,
      "metadata": {
        "id": "adf43626-5d65-49b5-ad43-cb0da43e7e01",
        "colab": {
          "base_uri": "https://localhost:8080/"
        },
        "outputId": "4ba1d2c1-17ca-4b2f-cf93-fc0181d3c5b9"
      },
      "outputs": [
        {
          "output_type": "stream",
          "name": "stdout",
          "text": [
            "[90, 9, 6, 5, 5, 4, 1, 1, 1, 1]\n",
            "[1, 1, 1, 1, 4, 5, 5, 6, 9, 90]\n"
          ]
        }
      ],
      "source": [
        "# se pueden ordenar\n",
        "l1.sort(reverse=True)\n",
        "print(l1)\n",
        "l1.sort()\n",
        "print(l1)"
      ]
    },
    {
      "cell_type": "code",
      "source": [
        "x = [3,4,6,1,2,3,4,5,6,1]\n",
        "x2 = x.copy()\n",
        "x2.sort()\n",
        "print(\"x\", x)\n",
        "print(\"x2\", x2)"
      ],
      "metadata": {
        "colab": {
          "base_uri": "https://localhost:8080/"
        },
        "id": "nYoRN8yTsUKB",
        "outputId": "c3b4925f-02fe-484e-d699-66639dcdfe8e"
      },
      "execution_count": null,
      "outputs": [
        {
          "output_type": "stream",
          "name": "stdout",
          "text": [
            "x [3, 4, 6, 1, 2, 3, 4, 5, 6, 1]\n",
            "x2 [1, 1, 2, 3, 3, 4, 4, 5, 6, 6]\n"
          ]
        }
      ]
    },
    {
      "cell_type": "code",
      "source": [
        "l1 = [1,2,3,4,4]\n",
        "print(l1)\n",
        "\n",
        "l1 = set(l1)\n",
        "print(l1)\n",
        "\n",
        "l1 = list(l1)\n",
        "print(l1)\n",
        "\n",
        "l1 = list(set(l1))\n",
        "print(l1)"
      ],
      "metadata": {
        "colab": {
          "base_uri": "https://localhost:8080/"
        },
        "id": "UCZLDYnc_2GC",
        "outputId": "69b9502c-b92e-4347-9e79-3e69f7964a55"
      },
      "execution_count": null,
      "outputs": [
        {
          "output_type": "stream",
          "name": "stdout",
          "text": [
            "[1, 2, 3, 4, 4]\n",
            "{1, 2, 3, 4}\n",
            "[1, 2, 3, 4]\n",
            "[1, 2, 3, 4]\n"
          ]
        }
      ]
    },
    {
      "cell_type": "code",
      "execution_count": null,
      "metadata": {
        "id": "af824f20-2a90-4257-aa69-d6deb20258c5",
        "colab": {
          "base_uri": "https://localhost:8080/"
        },
        "outputId": "a83d0e10-9549-45d0-f066-ea70a83062a5"
      },
      "outputs": [
        {
          "output_type": "stream",
          "name": "stdout",
          "text": [
            "l1 [1, 1, 1, 1, 4, 5, 5, 6, 9, 90]\n",
            "l2 [1, 1, 1, 1, 4, 5, 5, 6, 9, 90, 99]\n"
          ]
        }
      ],
      "source": [
        "# se pueden copiar (como vimos antes)\n",
        "l2 = l1.copy()\n",
        "\n",
        "# esto permite crear una lista nueva y no mutar la original\n",
        "l2.append(99)\n",
        "\n",
        "print(\"l1\", l1)\n",
        "print(\"l2\", l2)"
      ]
    },
    {
      "cell_type": "markdown",
      "metadata": {
        "id": "646ebd9f-e534-4b37-8c54-694284fcc28a"
      },
      "source": [
        "### Tuplas"
      ]
    },
    {
      "cell_type": "code",
      "execution_count": null,
      "metadata": {
        "id": "b81dacbd-bd7a-414c-ae33-4151c6449eff",
        "colab": {
          "base_uri": "https://localhost:8080/"
        },
        "outputId": "51af2edb-6f70-472a-fa8c-73fa7d38fd03"
      },
      "outputs": [
        {
          "output_type": "execute_result",
          "data": {
            "text/plain": [
              "(101,)"
            ]
          },
          "metadata": {},
          "execution_count": 89
        }
      ],
      "source": [
        "# son iguales a las listas pero inmutables\n",
        "# más eficientes cuando no se necesitan cambiar valores\n",
        "# se pueden crear de 2 maneras\n",
        "\n",
        "t1 = (1, 2, 3)\n",
        "t2 = tuple((1, 2, 3))  # usando su constructor\n",
        "\n",
        "# si se crea una tupla de 1 valor se debe usar una coma final\n",
        "t3 = (101,)\n",
        "t3"
      ]
    },
    {
      "cell_type": "code",
      "execution_count": null,
      "metadata": {
        "id": "491a3132-5bf5-4d1f-b3b3-4a8922ca6f90",
        "colab": {
          "base_uri": "https://localhost:8080/"
        },
        "outputId": "9efe0ada-5bef-49be-dd41-166dd5416fa2"
      },
      "outputs": [
        {
          "output_type": "stream",
          "name": "stdout",
          "text": [
            "(1, 2, 3)\n",
            "[1, 2, 3]\n"
          ]
        }
      ],
      "source": [
        "# también se pueden castear desde listas\n",
        "l = [1, 2, 3]\n",
        "t = tuple(l)\n",
        "print(t)\n",
        "\n",
        "# y a su vez castear hacia listas\n",
        "l = list(t)\n",
        "print(l)"
      ]
    },
    {
      "cell_type": "code",
      "execution_count": null,
      "metadata": {
        "id": "c5c5cc85-cedc-4a0f-8363-7d4672b47017",
        "colab": {
          "base_uri": "https://localhost:8080/"
        },
        "outputId": "c1adf1ee-d9ab-4970-8e73-87d8d2450db0"
      },
      "outputs": [
        {
          "output_type": "execute_result",
          "data": {
            "text/plain": [
              "3"
            ]
          },
          "metadata": {},
          "execution_count": 91
        }
      ],
      "source": [
        "# tienen longitud\n",
        "len(t1)"
      ]
    },
    {
      "cell_type": "code",
      "execution_count": null,
      "metadata": {
        "id": "9be0cbc8-b18d-445c-9244-03f88ccc1994",
        "colab": {
          "base_uri": "https://localhost:8080/",
          "height": 159
        },
        "outputId": "84ad3820-1947-4789-fdbd-d67fa9d02c1e"
      },
      "outputs": [
        {
          "output_type": "error",
          "ename": "TypeError",
          "evalue": "'tuple' object does not support item assignment",
          "traceback": [
            "\u001b[0;31m---------------------------------------------------------------------------\u001b[0m",
            "\u001b[0;31mTypeError\u001b[0m                                 Traceback (most recent call last)",
            "\u001b[0;32m<ipython-input-92-3049e9c5cb32>\u001b[0m in \u001b[0;36m<cell line: 2>\u001b[0;34m()\u001b[0m\n\u001b[1;32m      1\u001b[0m \u001b[0;31m# son inmutables\u001b[0m\u001b[0;34m\u001b[0m\u001b[0;34m\u001b[0m\u001b[0m\n\u001b[0;32m----> 2\u001b[0;31m \u001b[0mt1\u001b[0m\u001b[0;34m[\u001b[0m\u001b[0;36m0\u001b[0m\u001b[0;34m]\u001b[0m \u001b[0;34m=\u001b[0m \u001b[0;36m10\u001b[0m\u001b[0;34m\u001b[0m\u001b[0;34m\u001b[0m\u001b[0m\n\u001b[0m",
            "\u001b[0;31mTypeError\u001b[0m: 'tuple' object does not support item assignment"
          ]
        }
      ],
      "source": [
        "# son inmutables\n",
        "t1[0] = 10"
      ]
    },
    {
      "cell_type": "markdown",
      "metadata": {
        "id": "a19049bd-f013-490e-a8f5-910e496bf88f"
      },
      "source": [
        "### Conjuntos (sets)"
      ]
    },
    {
      "cell_type": "code",
      "execution_count": null,
      "metadata": {
        "id": "f277425c-ec77-46aa-88e4-f94a6b67e8b2"
      },
      "outputs": [],
      "source": [
        "# los conjuntos son colecciones de valores únicos\n",
        "# se pueden crear de 2 maneras\n",
        "s1 = {1, 2, 3}\n",
        "s2 = set((1, 2, 3))  # usando su constructor"
      ]
    },
    {
      "cell_type": "code",
      "execution_count": null,
      "metadata": {
        "id": "dd860f87-c350-458a-b64f-ac024ec2f077",
        "colab": {
          "base_uri": "https://localhost:8080/"
        },
        "outputId": "003cdd20-9e2c-48cf-8067-82d32b4acf2b"
      },
      "outputs": [
        {
          "output_type": "stream",
          "name": "stdout",
          "text": [
            "{1, 2, 3, 4, 5, 6, 7}\n",
            "[1, 2, 3, 4, 5, 6, 7]\n"
          ]
        }
      ],
      "source": [
        "# también se pueden castear desde listas para tener valores únicos\n",
        "l = [1, 1, 1, 1, 2, 2, 3, 4, 5, 6, 7]\n",
        "s = set(l)\n",
        "print(s)\n",
        "\n",
        "# y se pueden volver a castear a listas\n",
        "l = list(s)\n",
        "print(l)"
      ]
    },
    {
      "cell_type": "code",
      "execution_count": null,
      "metadata": {
        "id": "73d7dc3b-60ed-4f6a-9f18-f52e10a7dd83",
        "colab": {
          "base_uri": "https://localhost:8080/"
        },
        "outputId": "bf7933a7-1a8b-4fdc-9efb-0c1d3ec42f09"
      },
      "outputs": [
        {
          "output_type": "execute_result",
          "data": {
            "text/plain": [
              "2"
            ]
          },
          "metadata": {},
          "execution_count": 94
        }
      ],
      "source": [
        "# tienen longitud\n",
        "len(s1)"
      ]
    },
    {
      "cell_type": "code",
      "execution_count": null,
      "metadata": {
        "id": "54932d85-709c-469f-bba7-874ed0cad0d8",
        "colab": {
          "base_uri": "https://localhost:8080/"
        },
        "outputId": "5b32c5c9-4484-42cf-eb73-173d17b11ece"
      },
      "outputs": [
        {
          "output_type": "execute_result",
          "data": {
            "text/plain": [
              "{1, 2, 3, 4, 5, 6, 7, 10}"
            ]
          },
          "metadata": {},
          "execution_count": 95
        }
      ],
      "source": [
        "# se pueden agregar valores\n",
        "s.add(10)\n",
        "s"
      ]
    },
    {
      "cell_type": "code",
      "execution_count": null,
      "metadata": {
        "id": "0add0766-6037-4b79-99ed-77043bc681cf",
        "colab": {
          "base_uri": "https://localhost:8080/"
        },
        "outputId": "9e74bcb6-7702-4774-8eff-d78a882f5381"
      },
      "outputs": [
        {
          "output_type": "execute_result",
          "data": {
            "text/plain": [
              "{1, 2, 3, 4, 6, 7, 10}"
            ]
          },
          "metadata": {},
          "execution_count": 96
        }
      ],
      "source": [
        "# eliminar valores\n",
        "s.remove(5)\n",
        "s"
      ]
    },
    {
      "cell_type": "code",
      "execution_count": null,
      "metadata": {
        "id": "d6af74b3-c6e1-4f78-9120-5b07268f7117",
        "colab": {
          "base_uri": "https://localhost:8080/"
        },
        "outputId": "42f12bf7-a4fe-410c-c968-5dc3dcb02cb2"
      },
      "outputs": [
        {
          "output_type": "execute_result",
          "data": {
            "text/plain": [
              "[10, 'hola']"
            ]
          },
          "metadata": {},
          "execution_count": 97
        }
      ],
      "source": [
        "# al igual que listas, guardan referencias de sus valores\n",
        "# entonces deben copiarse para evitar mutar el valor original\n",
        "s2 = s1.copy()\n",
        "s2"
      ]
    },
    {
      "cell_type": "code",
      "execution_count": null,
      "metadata": {
        "id": "19a02a36-e01f-4226-8125-1903601f7227",
        "colab": {
          "base_uri": "https://localhost:8080/"
        },
        "outputId": "6f3c40da-9990-4f16-da28-82cccd0565af"
      },
      "outputs": [
        {
          "output_type": "execute_result",
          "data": {
            "text/plain": [
              "[]"
            ]
          },
          "metadata": {},
          "execution_count": 98
        }
      ],
      "source": [
        "# también se pueden limpiar\n",
        "s2.clear()\n",
        "s2"
      ]
    },
    {
      "cell_type": "code",
      "execution_count": null,
      "metadata": {
        "id": "0d042cc5-4481-471f-ab23-d2a197dae0f4",
        "colab": {
          "base_uri": "https://localhost:8080/"
        },
        "outputId": "3e53cd96-931a-4577-b948-287ef151af0d"
      },
      "outputs": [
        {
          "output_type": "stream",
          "name": "stdout",
          "text": [
            "{'manzanas', 'tomates', 'naranjas', 'palta', 'lechuga', 'zanahorias', 'peras'}\n",
            "{'tomates'}\n",
            "{'naranjas', 'manzanas', 'peras'}\n",
            "{'palta', 'lechuga', 'zanahorias'}\n"
          ]
        }
      ],
      "source": [
        "# lo más útil es usarlos para operaciones de conjuntos\n",
        "s1 = {\"manzanas\", \"peras\", \"naranjas\", \"tomates\"}\n",
        "s2 = {\"tomates\", \"zanahorias\", \"lechuga\", \"palta\"}\n",
        "\n",
        "print(s1.union(s2))\n",
        "print(s1.intersection(s2))\n",
        "\n",
        "print(s1.difference(s2))\n",
        "print(s2.difference(s1))"
      ]
    },
    {
      "cell_type": "code",
      "execution_count": null,
      "metadata": {
        "id": "c41c4926-d84b-44b0-b483-a50b5570f25d",
        "colab": {
          "base_uri": "https://localhost:8080/"
        },
        "outputId": "0da40870-8d4e-445b-8ff0-ab783ded292b"
      },
      "outputs": [
        {
          "output_type": "stream",
          "name": "stdout",
          "text": [
            "True\n",
            "False\n"
          ]
        }
      ],
      "source": [
        "# también se pueden hacer consultas\n",
        "\n",
        "s1 = {1, 2, 3}\n",
        "s2 = {2}\n",
        "\n",
        "print(s2.issubset(s1))\n",
        "print(s1.issubset(s2))"
      ]
    },
    {
      "cell_type": "markdown",
      "metadata": {
        "id": "37b9cce8-db68-4ec1-aa2d-053007cea399"
      },
      "source": [
        "### Diccionarios"
      ]
    },
    {
      "cell_type": "code",
      "execution_count": null,
      "metadata": {
        "id": "6bc2ac37-e811-40d1-9a0d-2e11095d9482"
      },
      "outputs": [],
      "source": [
        "# son una estructura de datos que relaciona llaves con valores\n",
        "# se pueden crear de 2 maneras\n",
        "d1 = {\n",
        "    \"x\": 1,\n",
        "    \"y\": 2\n",
        "  }\n",
        "d2 = dict(x=1, y=2)  # usando su constructor"
      ]
    },
    {
      "cell_type": "code",
      "execution_count": null,
      "metadata": {
        "id": "9c17cea3-f718-45f7-954f-bb7e4bb677f7",
        "colab": {
          "base_uri": "https://localhost:8080/"
        },
        "outputId": "1dbbc8a3-5ddb-4812-d9d1-b10a3fbe89f9"
      },
      "outputs": [
        {
          "output_type": "execute_result",
          "data": {
            "text/plain": [
              "{'nombre': 'juan', 'edad': 20, 'curso': 'primero'}"
            ]
          },
          "metadata": {},
          "execution_count": 49
        }
      ],
      "source": [
        "# muchas veces provienen de un zip de listas\n",
        "l1 = [\"nombre\", \"edad\", \"curso\"]\n",
        "l2 = [\"juan\", 20, \"primero\"]\n",
        "d = dict(zip(l1, l2))\n",
        "d"
      ]
    },
    {
      "cell_type": "code",
      "execution_count": null,
      "metadata": {
        "id": "c19b7a8f-52cb-4661-9ef3-d2c591987464",
        "colab": {
          "base_uri": "https://localhost:8080/"
        },
        "outputId": "555e13cf-21a5-46af-94a5-10ad3e641dad"
      },
      "outputs": [
        {
          "output_type": "execute_result",
          "data": {
            "text/plain": [
              "20"
            ]
          },
          "metadata": {},
          "execution_count": 50
        }
      ],
      "source": [
        "# se pueden consultar sus valores según sus llaves\n",
        "d.get(\"nombre\")\n",
        "\n",
        "# equivalente a\n",
        "d[\"nombre\"]\n",
        "d[\"edad\"]"
      ]
    },
    {
      "cell_type": "code",
      "execution_count": null,
      "metadata": {
        "id": "e95650b5-1682-44a4-96c7-1fbf3e9ca75d",
        "colab": {
          "base_uri": "https://localhost:8080/"
        },
        "outputId": "4839e6be-7b1d-4983-e2b4-05d733aa21c8"
      },
      "outputs": [
        {
          "output_type": "execute_result",
          "data": {
            "text/plain": [
              "dict_keys(['nombre', 'edad'])"
            ]
          },
          "metadata": {},
          "execution_count": 104
        }
      ],
      "source": [
        "# se pueden consultar sus llaves\n",
        "d.keys()"
      ]
    },
    {
      "cell_type": "code",
      "execution_count": null,
      "metadata": {
        "id": "219e88d9-f696-4bd2-9318-402ef7bc71c7",
        "colab": {
          "base_uri": "https://localhost:8080/"
        },
        "outputId": "18303646-2a93-4a07-89a1-80c4a612917e"
      },
      "outputs": [
        {
          "output_type": "execute_result",
          "data": {
            "text/plain": [
              "dict_items([('nombre', 'juan'), ('edad', 20)])"
            ]
          },
          "metadata": {},
          "execution_count": 105
        }
      ],
      "source": [
        "# los diccionarios guardan las llaves y valores en tuplas distintas\n",
        "# se pueden consultar las tuplas detrás del diccionario\n",
        "d.items()"
      ]
    },
    {
      "cell_type": "code",
      "execution_count": null,
      "metadata": {
        "id": "2b26b08c-1216-4dd2-9b65-3766079e0bc7",
        "colab": {
          "base_uri": "https://localhost:8080/"
        },
        "outputId": "e3236e9e-07f3-42c6-e8ca-89d967a44604"
      },
      "outputs": [
        {
          "output_type": "execute_result",
          "data": {
            "text/plain": [
              "2"
            ]
          },
          "metadata": {},
          "execution_count": 106
        }
      ],
      "source": [
        "# tiene longitud (cantidad de pares llave-valor)\n",
        "len(d)"
      ]
    },
    {
      "cell_type": "code",
      "execution_count": null,
      "metadata": {
        "id": "76bc528d-384d-4d79-9d51-671bb51f58ab",
        "colab": {
          "base_uri": "https://localhost:8080/"
        },
        "outputId": "23d21ac7-e93b-40a9-ffcf-f86957497335"
      },
      "outputs": [
        {
          "output_type": "execute_result",
          "data": {
            "text/plain": [
              "{'edad': 20}"
            ]
          },
          "metadata": {},
          "execution_count": 107
        }
      ],
      "source": [
        "# se pueden eliminar valores según llave\n",
        "d.pop(\"nombre\")\n",
        "d"
      ]
    },
    {
      "cell_type": "code",
      "execution_count": null,
      "metadata": {
        "id": "d25a4a41-7cd8-4858-9a0b-1bed604bd070",
        "colab": {
          "base_uri": "https://localhost:8080/"
        },
        "outputId": "fa5ebaab-f9ea-486f-c301-150a462ca077"
      },
      "outputs": [
        {
          "output_type": "execute_result",
          "data": {
            "text/plain": [
              "{}"
            ]
          },
          "metadata": {},
          "execution_count": 108
        }
      ],
      "source": [
        "# se pueden limpiar\n",
        "d.clear()\n",
        "d"
      ]
    },
    {
      "cell_type": "code",
      "execution_count": null,
      "metadata": {
        "id": "bd1d06c8-1a43-42c2-b19e-d260188ae802"
      },
      "outputs": [],
      "source": [
        "# al igual que listas, guardan referencias de sus valores\n",
        "# entonces deben copiarse para evitar mutar el valor original\n",
        "d2 = d1.copy()\n",
        "d2"
      ]
    },
    {
      "cell_type": "code",
      "execution_count": null,
      "metadata": {
        "id": "8de61841-7ec6-4f35-862c-7f2d12b8bc84"
      },
      "outputs": [],
      "source": [
        "# muchas veces se usan listas de diccionarios\n",
        "personas = [\n",
        "    { \"nombre\": \"jose\", \"apellido\": \"naranjo\", \"edad\": 31 },\n",
        "    { \"nombre\": \"camila\", \"apellido\": \"morales-bermúdez\", \"edad\": 27 },\n",
        "]\n",
        "\n",
        "# y estas son las que se procesan, por ejemplo para hallar la edad promedio\n",
        "edad_acumulada = 0\n",
        "for persona in personas:\n",
        "    edad_acumulada += persona[\"edad\"]\n",
        "print(edad_acumulada)\n",
        "print(edad_acumulada / len(personas))"
      ]
    },
    {
      "cell_type": "markdown",
      "source": [],
      "metadata": {
        "id": "4E5ZkEc4Aiez"
      }
    },
    {
      "cell_type": "markdown",
      "metadata": {
        "id": "e50cef6e-f7a7-4cc1-a146-7bf7e22b7750"
      },
      "source": [
        "### Funciones"
      ]
    },
    {
      "cell_type": "code",
      "execution_count": null,
      "metadata": {
        "id": "aa057c42-c7be-4f27-8fc7-cfe192bdb1aa"
      },
      "outputs": [],
      "source": [
        "# las funciones solo ejecutan cuando se invocan\n",
        "# se definen así\n",
        "\n",
        "def nombre_de_funcion(parametros):\n",
        "    # operaciones\n",
        "    return 1  # condición de salida\n",
        "\n",
        "# lo usual es que una función retorne algo\n",
        "def suma(num1, num2):\n",
        "    return num1 + num2\n",
        "\n",
        "# pero también puede simplemente pasar\n",
        "def logger():\n",
        "    print(\"hola\")"
      ]
    },
    {
      "cell_type": "code",
      "execution_count": null,
      "metadata": {
        "id": "1e01a595-bdeb-4b59-9adb-f991495511d5"
      },
      "outputs": [],
      "source": [
        "# python no lo exige, pero también puede tener tipado explícito en sus parámetros\n",
        "def suma(num1: int, num2: int):\n",
        "    return num1 + num2\n",
        "\n",
        "# o incluso en el retorno\n",
        "def suma(num1, num2) -> int:\n",
        "    return num1 + num2"
      ]
    },
    {
      "cell_type": "code",
      "execution_count": null,
      "metadata": {
        "id": "cd61e76d-5cf2-4981-869a-4fb2ff4cb707",
        "colab": {
          "base_uri": "https://localhost:8080/"
        },
        "outputId": "ade9cc04-ffe1-4301-b93b-71270e90965f"
      },
      "outputs": [
        {
          "output_type": "execute_result",
          "data": {
            "text/plain": [
              "{'nombre': 'camila', 'monto': 23.0, 'doc': 'ruc'}"
            ]
          },
          "metadata": {},
          "execution_count": 109
        }
      ],
      "source": [
        "# puede tener parámetros default\n",
        "def crear_boleta(nombre, monto, doc=\"dni\"):\n",
        "    return {\n",
        "        \"nombre\": nombre,\n",
        "        \"monto\": float(monto),\n",
        "        \"doc\": doc,\n",
        "    }\n",
        "\n",
        "crear_boleta(\"jose\", 100)\n",
        "crear_boleta(\"camila\", 23, \"ruc\")"
      ]
    },
    {
      "cell_type": "code",
      "execution_count": null,
      "metadata": {
        "id": "a4679030-4765-4209-887b-85c9e82a9e5a",
        "colab": {
          "base_uri": "https://localhost:8080/"
        },
        "outputId": "9cdf2ea2-c3b6-47f3-d2fd-a3972b2e2c56"
      },
      "outputs": [
        {
          "output_type": "stream",
          "name": "stdout",
          "text": [
            "3\n"
          ]
        }
      ],
      "source": [
        "# puede retornar y asignar\n",
        "y = suma(1, 2)\n",
        "print(y)"
      ]
    },
    {
      "cell_type": "code",
      "execution_count": null,
      "metadata": {
        "id": "59e87108-ed8c-4750-bbff-4b2f54085fc4"
      },
      "outputs": [],
      "source": [
        "# puede ser anónima\n",
        "y1 = (lambda a, b: a + b)(1, 2)\n",
        "\n",
        "# así sería lo mismo pero versión nónima\n",
        "def nombre_de_funcion(a, b):\n",
        "    return a + b\n",
        "y2 = nombre_de_funcion(1, 2)\n",
        "\n",
        "print(y1)\n",
        "print(y2)"
      ]
    },
    {
      "cell_type": "code",
      "execution_count": null,
      "metadata": {
        "id": "4415b58f-d819-4e3c-aee9-585226374364"
      },
      "outputs": [],
      "source": [
        "# también se puede volver una función lambda una normal\n",
        "# si es que se le da un nombre\n",
        "suma = lambda a, b: a + b\n",
        "print(suma(1, 2))"
      ]
    },
    {
      "cell_type": "markdown",
      "metadata": {
        "id": "4aab4be4-46f7-44ce-980f-ec975195fb85"
      },
      "source": [
        "### Condicionales"
      ]
    },
    {
      "cell_type": "code",
      "execution_count": null,
      "metadata": {
        "id": "6e8e771d-5cd6-4fd3-b54a-bdce008afcef",
        "colab": {
          "base_uri": "https://localhost:8080/"
        },
        "outputId": "b183eefd-579d-4688-cb06-d60d434427cb"
      },
      "outputs": [
        {
          "output_type": "stream",
          "name": "stdout",
          "text": [
            "1000\n"
          ]
        }
      ],
      "source": [
        "# evaluan si una sentencia es verdadera y ejecuta código\n",
        "if True:\n",
        "    print(1000)\n",
        "else:\n",
        "    pass"
      ]
    },
    {
      "cell_type": "code",
      "execution_count": null,
      "metadata": {
        "id": "3c0ead49-4825-4049-ad64-6034cc682bc1",
        "colab": {
          "base_uri": "https://localhost:8080/"
        },
        "outputId": "6c6b0510-ee3b-4c59-f25c-9e236604f116"
      },
      "outputs": [
        {
          "output_type": "stream",
          "name": "stdout",
          "text": [
            "1000\n"
          ]
        }
      ],
      "source": [
        "# si es falso, entra al \"else\"\n",
        "if False:\n",
        "    pass\n",
        "else:\n",
        "    print(1000)"
      ]
    },
    {
      "cell_type": "code",
      "execution_count": null,
      "metadata": {
        "id": "afc7d41f-0cdd-4c5b-bd63-59befb71499f",
        "colab": {
          "base_uri": "https://localhost:8080/"
        },
        "outputId": "ee6ad8f7-f5c7-4ba7-e254-25acf05f3b66"
      },
      "outputs": [
        {
          "output_type": "stream",
          "name": "stdout",
          "text": [
            "muy poca plata\n"
          ]
        }
      ],
      "source": [
        "# si se quieren condiciones intermedias, existe el elif\n",
        "monto = 3\n",
        "if monto > 100:\n",
        "    print(\"cuanta plata!\")\n",
        "elif monto > 50:\n",
        "    print(\"buena plata\")\n",
        "elif monto > 10:\n",
        "  print(\"poca plata\")\n",
        "else:\n",
        "  print(\"muy poca plata\")"
      ]
    },
    {
      "cell_type": "code",
      "execution_count": null,
      "metadata": {
        "id": "c46f18fb-6a87-4679-8d98-558024dab6b4",
        "colab": {
          "base_uri": "https://localhost:8080/"
        },
        "outputId": "c743d0c8-cda0-4ae3-c085-ab3caa7030f2"
      },
      "outputs": [
        {
          "output_type": "stream",
          "name": "stdout",
          "text": [
            "3\n",
            "hola\n"
          ]
        }
      ],
      "source": [
        "# también existe el match case\n",
        "# para verificar muchas condiciones (es un if-elif-else sofisticado)\n",
        "nombre = \"jose\"\n",
        "\n",
        "match nombre:\n",
        "    case \"juan\":\n",
        "      print(1)\n",
        "    case \"luis\":\n",
        "      print(2)\n",
        "    case \"jose\":\n",
        "      print(3)\n",
        "    case \"tian\" | \"maga\": print(4)      # operador O\n",
        "    case _: print(\"ingrese un nombre\")  # default"
      ]
    },
    {
      "cell_type": "code",
      "execution_count": null,
      "metadata": {
        "id": "c7413ef1-ecfd-473d-9c9d-eff6eb759115",
        "colab": {
          "base_uri": "https://localhost:8080/"
        },
        "outputId": "5d8d9584-b743-474e-dcb1-843499a777b6"
      },
      "outputs": [
        {
          "output_type": "stream",
          "name": "stdout",
          "text": [
            "True\n",
            "False\n",
            "True\n",
            "True\n",
            "True\n",
            "False\n",
            "True\n",
            "True\n",
            "True\n"
          ]
        }
      ],
      "source": [
        "# cualquier sentencia puede ser evaluada si es True o False\n",
        "# usando operadores booleanos, de identidad, o pertenencia\n",
        "\n",
        "# booleanos\n",
        "print(1 == 1)\n",
        "print(2 >= 3)\n",
        "print(\"juan\" != \"miguel\")\n",
        "print(1 > 0 and 0 < 10)\n",
        "print(1 > 0 or 0 < 10)\n",
        "\n",
        "# identidad\n",
        "x = 1\n",
        "y = None\n",
        "print(x is y)\n",
        "print(y is None)\n",
        "\n",
        "# pertenencia\n",
        "x = \"jose\"\n",
        "y = \"jose antonio\"\n",
        "print(x in y)\n",
        "y = [\"jose\", \"carlos\"]\n",
        "print(x in y)"
      ]
    },
    {
      "cell_type": "markdown",
      "metadata": {
        "id": "756efb73-7702-49d5-bc95-c0139f28b4a0"
      },
      "source": [
        "### Bucles (loops)"
      ]
    },
    {
      "cell_type": "code",
      "execution_count": null,
      "metadata": {
        "id": "da986be6-47f5-4672-9eb9-db70372841eb",
        "colab": {
          "base_uri": "https://localhost:8080/"
        },
        "outputId": "541771de-6d63-43f1-87b8-db3cb55c6277"
      },
      "outputs": [
        {
          "output_type": "stream",
          "name": "stdout",
          "text": [
            "for 1\n",
            "for 2\n",
            "for 3\n",
            "0\n",
            "1\n",
            "2\n",
            "3\n",
            "4\n"
          ]
        }
      ],
      "source": [
        "# hay 2 tipos de loops en python: for y while\n",
        "# con estos 2 tipos se pueden hacer todos los loops (eg. do)\n",
        "\n",
        "# for:\n",
        "# 1. define un número de iteraciones\n",
        "# 2. define una colección\n",
        "# 3. itera la colección\n",
        "for x in [1, 2, 3]:\n",
        "    print(\"for\", x)\n",
        "\n",
        "x = 1\n",
        "x = 2\n",
        "x = 3\n",
        "\n",
        "# while:\n",
        "# 1. define una condición\n",
        "# 2. itera un bloque de código hasta que ya no se cumpla la condición\n",
        "x = 0\n",
        "while x < 5:\n",
        "    print(x)\n",
        "    x += 1"
      ]
    },
    {
      "cell_type": "code",
      "execution_count": null,
      "metadata": {
        "id": "eb3617b5-80ae-4f20-9aed-9f0bdfb7c0db",
        "colab": {
          "base_uri": "https://localhost:8080/"
        },
        "outputId": "fcbf13d0-0c0a-4354-b15d-920088b3bce7"
      },
      "outputs": [
        {
          "output_type": "stream",
          "name": "stdout",
          "text": [
            "cuidado\n"
          ]
        }
      ],
      "source": [
        "# cuidado con un while True o while 1, estos nunca terminan a menos\n",
        "# que la condición de salida salga desde adentro (break)\n",
        "while True:\n",
        "    print(\"cuidado\")\n",
        "    break"
      ]
    },
    {
      "cell_type": "code",
      "execution_count": null,
      "metadata": {
        "id": "01b234ec-18cb-4a36-be3a-f73f063f7a64"
      },
      "outputs": [],
      "source": [
        "# a veces uno quieres saltarse una iteración\n",
        "for x in [1, 2, 3]:\n",
        "    if x == 2: continue\n",
        "    print(x)"
      ]
    },
    {
      "cell_type": "code",
      "execution_count": null,
      "metadata": {
        "id": "7772f7f4-c3e5-443a-9474-3550934f3786"
      },
      "outputs": [],
      "source": [
        "# a veces uno quiere saber el índice de una colección\n",
        "l = [1, 2, 3]\n",
        "for i in range(len(l)):  # range crea una lista empezando desde 0, de longitud len(l)\n",
        "    print(i, l[i])       # también podemos conocer el valor con l[i], aunque es difícil de leer"
      ]
    },
    {
      "cell_type": "code",
      "execution_count": null,
      "metadata": {
        "id": "b3cd5299-6b1f-4bc8-ac00-12a7eae1edb0"
      },
      "outputs": [],
      "source": [
        "# a veces uno quiere tanto el índice como el valor\n",
        "l = [1, 2, 3]\n",
        "for i, x in enumerate(l):\n",
        "    print(i, x)"
      ]
    },
    {
      "cell_type": "code",
      "execution_count": null,
      "metadata": {
        "id": "ceaabecd-e12a-4f70-aa92-514c533d5d39"
      },
      "outputs": [],
      "source": [
        "# en programación funcional, hay otros tipos de loops\n",
        "# los más usados el map y reduce\n",
        "\n",
        "# map muta una lista y la retorna\n",
        "l = [1, 2, 3]\n",
        "l = list(map(lambda x: x + 1, l))  # le suma 1 a cada elemento\n",
        "print(l)\n",
        "\n",
        "# reduce agrega los valores de una lista y lo retorna\n",
        "l = [1, 2, 3]\n",
        "suma = reduce(lambda x, acc: acc + x, l, 0)  # acumula cada elemento en acc\n",
        "print(suma)"
      ]
    },
    {
      "cell_type": "markdown",
      "metadata": {
        "id": "95b209ce-262a-4aa2-bbb7-702e4f7abfe5"
      },
      "source": [
        "### Bibliotecas"
      ]
    },
    {
      "cell_type": "code",
      "execution_count": null,
      "metadata": {
        "id": "5874cd70-788f-42f5-9e2b-0c56ba3d873b"
      },
      "outputs": [],
      "source": [
        "# hay cerca de 300 bibliotecas estándar y cerca de 140k bibliotecas terceras\n",
        "# las bibliotecas son módulos de python que dentro tienen clases, funciones, y otros módulos\n",
        "# estas se pueden importar entre módulos para acceder a sus clases, funciones y módulos\n",
        "\n",
        "# se puede importar la biblioteca entera\n",
        "import datetime\n",
        "\n",
        "# se puede importar la biblioteca entera con un alias\n",
        "import datetime as dt\n",
        "\n",
        "# se puede importar solo un módulo de una biblioteca\n",
        "from datetime import timedelta\n",
        "\n",
        "# se pueden importar todos los módulos de una biblioteca\n",
        "from datetime import *  # no deberian hacerlo nunca"
      ]
    },
    {
      "cell_type": "code",
      "source": [
        "import datetime\n",
        "\n",
        "def timedelta():\n",
        "  print(\"hola amigos\")\n",
        "\n",
        "timedelta()\n",
        "datetime.timedelta()"
      ],
      "metadata": {
        "colab": {
          "base_uri": "https://localhost:8080/"
        },
        "id": "Wb3222fsqPgE",
        "outputId": "9040008a-f057-42ad-c3d7-9b78c78aef7b"
      },
      "execution_count": null,
      "outputs": [
        {
          "output_type": "stream",
          "name": "stdout",
          "text": [
            "hola amigos\n"
          ]
        },
        {
          "output_type": "execute_result",
          "data": {
            "text/plain": [
              "datetime.timedelta(0)"
            ]
          },
          "metadata": {},
          "execution_count": 59
        }
      ]
    },
    {
      "cell_type": "code",
      "execution_count": null,
      "metadata": {
        "id": "dfd87a1a-5738-430f-aa6a-22af91590afd"
      },
      "outputs": [],
      "source": [
        "# cuál es la diferencia entre importar la biblioteca entera o todos sus módulos?\n",
        "# como se usan los módulos\n",
        "\n",
        "import datetime\n",
        "print(datetime.date.today())  # el módulo datetime está expuesto al módulo actual\n",
        "\n",
        "from datetime import *\n",
        "print(date.today())           # el módulo date está expuesto al módulo actual"
      ]
    },
    {
      "cell_type": "code",
      "execution_count": null,
      "metadata": {
        "id": "7e96de45-59df-4af1-a4f5-299f07141b8f"
      },
      "outputs": [],
      "source": [
        "# es recomendable importar la biblioteca entera para evitar colisión de nombres\n",
        "# por ejemplo:\n",
        "\n",
        "def date():\n",
        "    print(\"quieres ir en un date?\")\n",
        "\n",
        "print(date.today())"
      ]
    },
    {
      "cell_type": "markdown",
      "metadata": {
        "id": "dda289b1-1288-4402-86c8-82b46ffa7cd9"
      },
      "source": [
        "### Clases"
      ]
    },
    {
      "cell_type": "code",
      "execution_count": null,
      "metadata": {
        "id": "d7afa08d-4d0d-494e-8885-2aeff2b5b036"
      },
      "outputs": [],
      "source": [
        "# las clases son un elemento de la programación orientada a objetos\n",
        "# es una manera de estructurar el código\n",
        "\n",
        "# se define de esta manera:\n",
        "class Koopa:\n",
        "    pass\n",
        "\n",
        "# las clases luego se instancian en objetos\n",
        "koopa1 = Koopa()\n",
        "koopa2 = Koopa()"
      ]
    },
    {
      "cell_type": "code",
      "execution_count": null,
      "metadata": {
        "id": "741415e7-f533-43c7-ac05-d4468389849c",
        "colab": {
          "base_uri": "https://localhost:8080/"
        },
        "outputId": "1182ec9a-822a-4ecb-c8da-e72d00cc5a79"
      },
      "outputs": [
        {
          "output_type": "stream",
          "name": "stdout",
          "text": [
            "Hola me llamo Luis y tengo caparazón de color verde!\n",
            "Hola me llamo Carlos y tengo caparazón de color rojo!\n"
          ]
        }
      ],
      "source": [
        "# las clases tienen atributos y métodos\n",
        "# atributos son datos del objeto\n",
        "# métodos son acciones que hace el objeto\n",
        "\n",
        "# los atributos se definen en el constructor de la clase\n",
        "# los métodos se definen como funciones dentro de la clase\n",
        "\n",
        "class Koopa:\n",
        "\n",
        "    # constructor\n",
        "    def __init__(self, caparazon, nombre):\n",
        "        self.caparazon = caparazon\n",
        "        self.nombre = nombre\n",
        "\n",
        "    # método\n",
        "    def saludar(self):\n",
        "      if self.caparazon:\n",
        "        print(f\"Hola me llamo {self.nombre} y tengo caparazón de color {self.caparazon}!\")\n",
        "      else:\n",
        "        print(f\"Hola me llamo {self.nombre} y no tengo caparazón!\")\n",
        "\n",
        "koopa1 = Koopa(\"verde\", \"Luis\")\n",
        "koopa1.saludar()\n",
        "\n",
        "koopa2 = Koopa(\"rojo\", \"Carlos\")\n",
        "koopa2.saludar()"
      ]
    },
    {
      "cell_type": "code",
      "execution_count": null,
      "metadata": {
        "id": "610ce18e-b598-42f0-bf1f-26c38f4c553a",
        "colab": {
          "base_uri": "https://localhost:8080/"
        },
        "outputId": "0f695ef7-8b5b-4475-9fa2-3dddb99c5e66"
      },
      "outputs": [
        {
          "output_type": "stream",
          "name": "stdout",
          "text": [
            "Hola me llamo Kamek y no tengo caparazón!\n"
          ]
        }
      ],
      "source": [
        "# las clases pueden extenderse a otras\n",
        "\n",
        "class Magikoopa(Koopa):\n",
        "\n",
        "    def __init__(self, nombre):\n",
        "        self.caparazon = None\n",
        "        self.nombre = nombre\n",
        "\n",
        "koopa3 = Magikoopa(\"Kamek\")\n",
        "koopa3.saludar()"
      ]
    },
    {
      "cell_type": "markdown",
      "metadata": {
        "id": "cd35fa50-49c2-49c6-9f1c-5f8d6a2c02e3"
      },
      "source": [
        "### Streams"
      ]
    },
    {
      "cell_type": "code",
      "execution_count": null,
      "metadata": {
        "id": "65ca0fc0-ce97-460a-ba85-741d85787c7d"
      },
      "outputs": [],
      "source": [
        "# python puede recibir un stream de contenido\n",
        "# y almacenarlo o procesarlo mientras está abierto\n",
        "\n",
        "# abrir un stream\n",
        "with open(\"./archivo_ejemplo.txt\", \"r\") as f:\n",
        "\n",
        "    # procesar el stream\n",
        "    c = 0\n",
        "    for line in f:\n",
        "        print(line)\n",
        "        c += 1\n",
        "        if c > 50:\n",
        "          break\n",
        "\n",
        "    # cerrar el stream\n",
        "    f.close()"
      ]
    },
    {
      "cell_type": "code",
      "execution_count": null,
      "metadata": {
        "id": "c53e7f7a-0628-4a31-836c-979b273c8973"
      },
      "outputs": [],
      "source": [
        "# si no se desea procesar el stream, sino solo almacenarlo\n",
        "# entonces se puede hacer\n",
        "f = open(\"./archivo_ejemplo.txt\", \"r\")\n",
        "\n",
        "# ojo que aquí se almacenó el stream\n",
        "# si se quiere acceder al contenido:\n",
        "for line in f:\n",
        "    print(line)\n",
        "\n",
        "# o si se quiere almacenar el contenido\n",
        "contenido = f.readlines()"
      ]
    },
    {
      "cell_type": "code",
      "execution_count": null,
      "metadata": {
        "id": "f39beb47-c37f-41ff-a515-c4b59b91a7ac"
      },
      "outputs": [],
      "source": [
        "# mientras el stream esté almacenado de manera abierta\n",
        "# se puede procesar\n",
        "\n",
        "# el modificador \"w\" es para \"write\" (sobreescribir el archivo)\n",
        "f = open(\"./archivo_ejemplo.txt\", \"w\")\n",
        "f.write(\"hola\")\n",
        "f.close()\n",
        "\n",
        "# el modificador \"a\" es para \"append\" (agregar al final del stream)\n",
        "f = open(\"./archivo_ejemplo.txt\", \"a\")\n",
        "f.write(\" que tal\")\n",
        "f.close()\n",
        "\n",
        "# el modificador \"r\" es para \"read\" (leer el archivo)\n",
        "f = open(\"./archivo_ejemplo.txt\", \"r\")\n",
        "print(f.readlines())\n",
        "f.close()"
      ]
    },
    {
      "cell_type": "markdown",
      "metadata": {
        "id": "1ac62362-58b0-4e3e-a392-833fd1120f93"
      },
      "source": [
        "### Parsing"
      ]
    },
    {
      "cell_type": "code",
      "execution_count": null,
      "metadata": {
        "id": "329df96a-d735-4daa-9bfb-93330e1f415d"
      },
      "outputs": [],
      "source": [
        "# siempre hay mejores maneras de leer un archivo\n",
        "# por ejemplo, los CSVs se pueden leer como streams\n",
        "f = open(\"./archivo_ejemplo.csv\", \"r\")\n",
        "data = f.readlines()\n",
        "f.close()\n",
        "\n",
        "print(data)"
      ]
    },
    {
      "cell_type": "code",
      "execution_count": null,
      "metadata": {
        "id": "acd5195b-bbf0-4419-8f99-9a1166c35781"
      },
      "outputs": [],
      "source": [
        "# algunos archivos se pueden cargar directamente a tipos nativos de python\n",
        "# por ejemplo jsons -> diccionarios o lista de diccionarios\n",
        "import json\n",
        "\n",
        "f = open(\"./archivo_ejemplo.json\", \"r\")\n",
        "d = json.load(f)\n",
        "\n",
        "print(d)\n",
        "print(d[0][\"nombre\"])\n",
        "\n",
        "# también a veces es importante especificar el encoding\n",
        "f = open(\"./archivo_ejemplo.json\", \"r\", encoding=\"utf-8\")\n",
        "d = json.load(f)\n",
        "\n",
        "print(d[1][\"apellido\"])"
      ]
    },
    {
      "cell_type": "code",
      "source": [],
      "metadata": {
        "id": "8xsu79nRr1xq"
      },
      "execution_count": null,
      "outputs": []
    },
    {
      "cell_type": "code",
      "source": [],
      "metadata": {
        "id": "MaDyl0N6r4iz"
      },
      "execution_count": null,
      "outputs": []
    },
    {
      "cell_type": "code",
      "source": [],
      "metadata": {
        "id": "FDmlLzSmr4YE"
      },
      "execution_count": null,
      "outputs": []
    },
    {
      "cell_type": "code",
      "source": [],
      "metadata": {
        "id": "3uiIJN2zr4N-"
      },
      "execution_count": null,
      "outputs": []
    },
    {
      "cell_type": "code",
      "source": [],
      "metadata": {
        "id": "UOzsQm3ir375"
      },
      "execution_count": null,
      "outputs": []
    },
    {
      "cell_type": "markdown",
      "source": [
        "### Ejercicios"
      ],
      "metadata": {
        "id": "o-z5KCpkBkXA"
      }
    },
    {
      "cell_type": "code",
      "source": [
        "# ejercicio 1\n",
        "# escribe una función llamada: semanas_dias\n",
        "# esta función tendrá 1 argumento: dias\n",
        "# esta función retornará: cuántas semanas y días representan esos días\n",
        "# por ejemplo: semanas_dias(10) => 1 semana y 3 días"
      ],
      "metadata": {
        "id": "riJGyHlkBlaW"
      },
      "execution_count": null,
      "outputs": []
    },
    {
      "cell_type": "code",
      "source": [
        "def semanas_dias(dias):\n",
        "  semanas = dias // 7\n",
        "  dias_restantes = dias % 7\n",
        "  return f\"{semanas} semana{'s' if semanas != 1 else ''} y {dias_restantes} día{'s' if dias_restantes != 1 else ''}\"\n",
        "\n",
        "\n",
        "print(semanas_dias(10))\n",
        "print(semanas_dias(15))"
      ],
      "metadata": {
        "id": "UTgZEXbAB3ul",
        "colab": {
          "base_uri": "https://localhost:8080/"
        },
        "outputId": "34f75b12-0cee-4b4e-e711-586096962732"
      },
      "execution_count": null,
      "outputs": [
        {
          "output_type": "stream",
          "name": "stdout",
          "text": [
            "1 semana y 3 días\n",
            "2 semanas y 1 día\n"
          ]
        }
      ]
    },
    {
      "cell_type": "code",
      "source": [
        "# ejercicio 2\n",
        "# escribe una función llamada: tope_mil\n",
        "# esta función tendrá 2 argumentos: x1 y x2\n",
        "# esta función retornará: el producto x1*x2 si es menor a 1000, o la suma x1+x2\n",
        "# por ejemplo: tope_mil(2, 4) => 8\n",
        "# por ejemplo: tope_mil(200, 10) => 210"
      ],
      "metadata": {
        "id": "hWRL-2QyCX0H"
      },
      "execution_count": null,
      "outputs": []
    },
    {
      "cell_type": "code",
      "source": [
        "def tope_mil(x1, x2):\n",
        "  prod = x1 * x2\n",
        "  if prod > 1000: return x1 + x2\n",
        "  else: return prod\n",
        "\n",
        "tope_mil(2, 4)\n",
        "tope_mil(200, 10)"
      ],
      "metadata": {
        "id": "RrDhBCZPDJ1r",
        "colab": {
          "base_uri": "https://localhost:8080/"
        },
        "outputId": "d982d540-651e-4ece-8201-507f34893ae8"
      },
      "execution_count": null,
      "outputs": [
        {
          "output_type": "execute_result",
          "data": {
            "text/plain": [
              "210"
            ]
          },
          "metadata": {},
          "execution_count": 13
        }
      ]
    },
    {
      "cell_type": "code",
      "source": [
        "# ejercicio 3\n",
        "# escribe una función llamada: letras_impares\n",
        "# esta función tendrá 1 argumento: palabra\n",
        "# esta función retornará: solo los caracteres de posición impar\n",
        "# por ejemplo: letras_impares(\"hola\") => \"hl\"\n",
        "# por ejemplo: letras_impares(\"analytics\") => \"aayis\""
      ],
      "metadata": {
        "id": "88_4b8M5DgNx"
      },
      "execution_count": null,
      "outputs": []
    },
    {
      "cell_type": "code",
      "source": [
        "list(enumerate(\"hola\"))"
      ],
      "metadata": {
        "colab": {
          "base_uri": "https://localhost:8080/"
        },
        "id": "mtKy_Hiq6R1o",
        "outputId": "f6dc69f2-ff23-4fb6-d7f9-b882a8652605"
      },
      "execution_count": null,
      "outputs": [
        {
          "output_type": "execute_result",
          "data": {
            "text/plain": [
              "[(0, 'h'), (1, 'o'), (2, 'l'), (3, 'a')]"
            ]
          },
          "metadata": {},
          "execution_count": 16
        }
      ]
    },
    {
      "cell_type": "code",
      "source": [
        "def letras_impares(palabra):\n",
        "  resultado = \"\"\n",
        "  for i, caracter in enumerate(palabra):\n",
        "    if (i + 1) % 2 != 0: resultado += caracter\n",
        "  return resultado\n",
        "\n",
        "print(letras_impares(\"hola\"))\n",
        "print(letras_impares(\"analytics\"))"
      ],
      "metadata": {
        "id": "0RU7eLjSD4PA",
        "colab": {
          "base_uri": "https://localhost:8080/"
        },
        "outputId": "55873ea4-f7f8-4417-a9ec-ba5c6c655077"
      },
      "execution_count": null,
      "outputs": [
        {
          "output_type": "stream",
          "name": "stdout",
          "text": [
            "hl\n",
            "aayis\n"
          ]
        }
      ]
    },
    {
      "cell_type": "code",
      "source": [
        "l1 = ['a','b','c']\n",
        "\n",
        "for i in range(len(l1)):\n",
        "  caracter = l1[i]\n",
        "  print(i, caracter)\n",
        "\n",
        "for i, caracter in enumerate(l1):\n",
        "  print(i, caracter)"
      ],
      "metadata": {
        "colab": {
          "base_uri": "https://localhost:8080/"
        },
        "id": "VnnztHS77Nqy",
        "outputId": "55d5dbeb-d20e-408c-f1c1-13b797294bb4"
      },
      "execution_count": null,
      "outputs": [
        {
          "output_type": "stream",
          "name": "stdout",
          "text": [
            "0 a\n",
            "1 b\n",
            "2 c\n",
            "0 a\n",
            "1 b\n",
            "2 c\n"
          ]
        }
      ]
    },
    {
      "cell_type": "code",
      "source": [
        "d = {\n",
        "    \"nombre\": \"jose\",\n",
        "    \"color\": \"rojo\",\n",
        "    \"curso\": {\n",
        "        \"titulo\": \"intro analitica\",\n",
        "        \"duracion\": 2,\n",
        "        \"alumnos\": [\n",
        "            {\n",
        "                \"nombre\": \"marco\"\n",
        "            }\n",
        "        ],\n",
        "        \"tipo\": {\n",
        "            \"x\": {\n",
        "                \"y\": {\n",
        "\n",
        "                }\n",
        "            }\n",
        "        }\n",
        "    }\n",
        "}"
      ],
      "metadata": {
        "id": "FaY2WLqMEUvS"
      },
      "execution_count": null,
      "outputs": []
    }
  ]
}